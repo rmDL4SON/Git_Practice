{
  "cells": [
    {
      "cell_type": "markdown",
      "metadata": {
        "id": "view-in-github",
        "colab_type": "text"
      },
      "source": [
        "<a href=\"https://colab.research.google.com/github/rmDL4SON/Git_Practice/blob/main/CNN_And_Transfer_Learning_Malaria_Detection.ipynb\" target=\"_parent\"><img src=\"https://colab.research.google.com/assets/colab-badge.svg\" alt=\"Open In Colab\"/></a>"
      ]
    },
    {
      "cell_type": "markdown",
      "metadata": {
        "id": "8kjoBSHPsU1m"
      },
      "source": [
        "## Creating CNN Using Scratch And Transfer Learning"
      ]
    },
    {
      "cell_type": "markdown",
      "metadata": {
        "id": "BKn33v7PsU1o"
      },
      "source": [
        "Please download the dataset from the below url"
      ]
    },
    {
      "cell_type": "code",
      "execution_count": 1,
      "metadata": {
        "id": "anS2cJeosU1o"
      },
      "outputs": [],
      "source": [
        "# import the libraries as shown below\n",
        "\n",
        "from tensorflow.keras.layers import Input, Lambda, Dense, Flatten,Conv2D\n",
        "from tensorflow.keras.models import Model\n",
        "from tensorflow.keras.applications.vgg19 import VGG19\n",
        "from tensorflow.keras.applications.resnet50 import preprocess_input\n",
        "from tensorflow.keras.preprocessing import image\n",
        "from tensorflow.keras.preprocessing.image import ImageDataGenerator,load_img\n",
        "from tensorflow.keras.models import Sequential\n",
        "import numpy as np\n",
        "from glob import glob\n",
        "import matplotlib.pyplot as plt"
      ]
    },
    {
      "cell_type": "code",
      "source": [
        "import tensorflow as tf\n",
        "print(tf.__version__)"
      ],
      "metadata": {
        "colab": {
          "base_uri": "https://localhost:8080/"
        },
        "id": "I4TIpiYhss1q",
        "outputId": "641468ad-7d01-4d26-e0c1-079ffdcc6d7d"
      },
      "execution_count": 2,
      "outputs": [
        {
          "output_type": "stream",
          "name": "stdout",
          "text": [
            "2.8.2\n"
          ]
        }
      ]
    },
    {
      "cell_type": "code",
      "source": [
        "from google.colab import drive\n",
        "drive.mount('/content/drive')"
      ],
      "metadata": {
        "colab": {
          "base_uri": "https://localhost:8080/"
        },
        "id": "fGpb8jHJQGcD",
        "outputId": "e4ddb6ed-30e0-40f5-e6c3-b5d601d2ea27"
      },
      "execution_count": 3,
      "outputs": [
        {
          "output_type": "stream",
          "name": "stdout",
          "text": [
            "Mounted at /content/drive\n"
          ]
        }
      ]
    },
    {
      "cell_type": "code",
      "execution_count": 4,
      "metadata": {
        "id": "R69i_PXpsU1p"
      },
      "outputs": [],
      "source": [
        "# re-size all the images to this\n",
        "IMAGE_SIZE = [224, 224]\n",
        "\n",
        "train_path = '/content/drive/MyDrive/Modern_CompVision/Malaria-Detection/Dataset/Train'\n",
        "valid_path = '/content/drive/MyDrive/Modern_CompVision/Malaria-Detection/Dataset/Test'\n"
      ]
    },
    {
      "cell_type": "code",
      "execution_count": 5,
      "metadata": {
        "colab": {
          "base_uri": "https://localhost:8080/"
        },
        "id": "Mx4uhX8YsU1p",
        "outputId": "25028f96-cb58-472c-af90-245c24af41bf"
      },
      "outputs": [
        {
          "output_type": "stream",
          "name": "stdout",
          "text": [
            "Downloading data from https://storage.googleapis.com/tensorflow/keras-applications/vgg19/vgg19_weights_tf_dim_ordering_tf_kernels_notop.h5\n",
            "80142336/80134624 [==============================] - 0s 0us/step\n",
            "80150528/80134624 [==============================] - 0s 0us/step\n",
            "Model: \"vgg19\"\n",
            "_________________________________________________________________\n",
            " Layer (type)                Output Shape              Param #   \n",
            "=================================================================\n",
            " input_1 (InputLayer)        [(None, 224, 224, 3)]     0         \n",
            "                                                                 \n",
            " block1_conv1 (Conv2D)       (None, 224, 224, 64)      1792      \n",
            "                                                                 \n",
            " block1_conv2 (Conv2D)       (None, 224, 224, 64)      36928     \n",
            "                                                                 \n",
            " block1_pool (MaxPooling2D)  (None, 112, 112, 64)      0         \n",
            "                                                                 \n",
            " block2_conv1 (Conv2D)       (None, 112, 112, 128)     73856     \n",
            "                                                                 \n",
            " block2_conv2 (Conv2D)       (None, 112, 112, 128)     147584    \n",
            "                                                                 \n",
            " block2_pool (MaxPooling2D)  (None, 56, 56, 128)       0         \n",
            "                                                                 \n",
            " block3_conv1 (Conv2D)       (None, 56, 56, 256)       295168    \n",
            "                                                                 \n",
            " block3_conv2 (Conv2D)       (None, 56, 56, 256)       590080    \n",
            "                                                                 \n",
            " block3_conv3 (Conv2D)       (None, 56, 56, 256)       590080    \n",
            "                                                                 \n",
            " block3_conv4 (Conv2D)       (None, 56, 56, 256)       590080    \n",
            "                                                                 \n",
            " block3_pool (MaxPooling2D)  (None, 28, 28, 256)       0         \n",
            "                                                                 \n",
            " block4_conv1 (Conv2D)       (None, 28, 28, 512)       1180160   \n",
            "                                                                 \n",
            " block4_conv2 (Conv2D)       (None, 28, 28, 512)       2359808   \n",
            "                                                                 \n",
            " block4_conv3 (Conv2D)       (None, 28, 28, 512)       2359808   \n",
            "                                                                 \n",
            " block4_conv4 (Conv2D)       (None, 28, 28, 512)       2359808   \n",
            "                                                                 \n",
            " block4_pool (MaxPooling2D)  (None, 14, 14, 512)       0         \n",
            "                                                                 \n",
            " block5_conv1 (Conv2D)       (None, 14, 14, 512)       2359808   \n",
            "                                                                 \n",
            " block5_conv2 (Conv2D)       (None, 14, 14, 512)       2359808   \n",
            "                                                                 \n",
            " block5_conv3 (Conv2D)       (None, 14, 14, 512)       2359808   \n",
            "                                                                 \n",
            " block5_conv4 (Conv2D)       (None, 14, 14, 512)       2359808   \n",
            "                                                                 \n",
            " block5_pool (MaxPooling2D)  (None, 7, 7, 512)         0         \n",
            "                                                                 \n",
            "=================================================================\n",
            "Total params: 20,024,384\n",
            "Trainable params: 20,024,384\n",
            "Non-trainable params: 0\n",
            "_________________________________________________________________\n"
          ]
        }
      ],
      "source": [
        "# Import the Vgg 16 library as shown below and add preprocessing layer to the front of VGG\n",
        "# Here we will be using imagenet weights\n",
        "\n",
        "vgg19 = VGG19(input_shape=IMAGE_SIZE + [3], weights='imagenet', include_top=False)\n",
        "\n",
        "# imagenet trained million of images\n",
        "\n",
        "vgg19.summary()"
      ]
    },
    {
      "cell_type": "code",
      "execution_count": 6,
      "metadata": {
        "id": "OijZpNnosU1p"
      },
      "outputs": [],
      "source": [
        "# Don't train existing weights, since we are going to use the same transfer learning, so only last layers will be trained.\n",
        "for layer in vgg19.layers:\n",
        "    layer.trainable = False"
      ]
    },
    {
      "cell_type": "code",
      "execution_count": 7,
      "metadata": {
        "id": "jKemFSmhsU1p"
      },
      "outputs": [],
      "source": [
        "  # useful for getting number of output classes\n",
        "\n",
        "folders = glob('/content/drive/MyDrive/Modern_CompVision/Malaria-Detection/Dataset/Train/*')"
      ]
    },
    {
      "cell_type": "code",
      "execution_count": 8,
      "metadata": {
        "colab": {
          "base_uri": "https://localhost:8080/"
        },
        "id": "gu70jwfrsU1q",
        "outputId": "eb8f76b7-e761-4d59-9e25-95f81ace75ff"
      },
      "outputs": [
        {
          "output_type": "execute_result",
          "data": {
            "text/plain": [
              "['/content/drive/MyDrive/Modern_CompVision/Malaria-Detection/Dataset/Train/Uninfected',\n",
              " '/content/drive/MyDrive/Modern_CompVision/Malaria-Detection/Dataset/Train/Parasite']"
            ]
          },
          "metadata": {},
          "execution_count": 8
        }
      ],
      "source": [
        "folders"
      ]
    },
    {
      "cell_type": "code",
      "execution_count": 9,
      "metadata": {
        "id": "IOsQBM-csU1q"
      },
      "outputs": [],
      "source": [
        "# our layers - you can add more if you want\n",
        "x = Flatten()(vgg19.output)"
      ]
    },
    {
      "cell_type": "code",
      "execution_count": 10,
      "metadata": {
        "id": "TUabFPnnsU1q"
      },
      "outputs": [],
      "source": [
        "prediction = Dense(len(folders), activation='softmax')(x)\n",
        "\n",
        "# create a model object\n",
        "model = Model(inputs=vgg19.input, outputs=prediction)"
      ]
    },
    {
      "cell_type": "code",
      "execution_count": 11,
      "metadata": {
        "colab": {
          "base_uri": "https://localhost:8080/"
        },
        "id": "dUxIXJ3ksU1r",
        "outputId": "fd22ad77-2b95-40d7-fff4-f84c0071493c"
      },
      "outputs": [
        {
          "output_type": "stream",
          "name": "stdout",
          "text": [
            "Model: \"model\"\n",
            "_________________________________________________________________\n",
            " Layer (type)                Output Shape              Param #   \n",
            "=================================================================\n",
            " input_1 (InputLayer)        [(None, 224, 224, 3)]     0         \n",
            "                                                                 \n",
            " block1_conv1 (Conv2D)       (None, 224, 224, 64)      1792      \n",
            "                                                                 \n",
            " block1_conv2 (Conv2D)       (None, 224, 224, 64)      36928     \n",
            "                                                                 \n",
            " block1_pool (MaxPooling2D)  (None, 112, 112, 64)      0         \n",
            "                                                                 \n",
            " block2_conv1 (Conv2D)       (None, 112, 112, 128)     73856     \n",
            "                                                                 \n",
            " block2_conv2 (Conv2D)       (None, 112, 112, 128)     147584    \n",
            "                                                                 \n",
            " block2_pool (MaxPooling2D)  (None, 56, 56, 128)       0         \n",
            "                                                                 \n",
            " block3_conv1 (Conv2D)       (None, 56, 56, 256)       295168    \n",
            "                                                                 \n",
            " block3_conv2 (Conv2D)       (None, 56, 56, 256)       590080    \n",
            "                                                                 \n",
            " block3_conv3 (Conv2D)       (None, 56, 56, 256)       590080    \n",
            "                                                                 \n",
            " block3_conv4 (Conv2D)       (None, 56, 56, 256)       590080    \n",
            "                                                                 \n",
            " block3_pool (MaxPooling2D)  (None, 28, 28, 256)       0         \n",
            "                                                                 \n",
            " block4_conv1 (Conv2D)       (None, 28, 28, 512)       1180160   \n",
            "                                                                 \n",
            " block4_conv2 (Conv2D)       (None, 28, 28, 512)       2359808   \n",
            "                                                                 \n",
            " block4_conv3 (Conv2D)       (None, 28, 28, 512)       2359808   \n",
            "                                                                 \n",
            " block4_conv4 (Conv2D)       (None, 28, 28, 512)       2359808   \n",
            "                                                                 \n",
            " block4_pool (MaxPooling2D)  (None, 14, 14, 512)       0         \n",
            "                                                                 \n",
            " block5_conv1 (Conv2D)       (None, 14, 14, 512)       2359808   \n",
            "                                                                 \n",
            " block5_conv2 (Conv2D)       (None, 14, 14, 512)       2359808   \n",
            "                                                                 \n",
            " block5_conv3 (Conv2D)       (None, 14, 14, 512)       2359808   \n",
            "                                                                 \n",
            " block5_conv4 (Conv2D)       (None, 14, 14, 512)       2359808   \n",
            "                                                                 \n",
            " block5_pool (MaxPooling2D)  (None, 7, 7, 512)         0         \n",
            "                                                                 \n",
            " flatten (Flatten)           (None, 25088)             0         \n",
            "                                                                 \n",
            " dense (Dense)               (None, 2)                 50178     \n",
            "                                                                 \n",
            "=================================================================\n",
            "Total params: 20,074,562\n",
            "Trainable params: 50,178\n",
            "Non-trainable params: 20,024,384\n",
            "_________________________________________________________________\n"
          ]
        }
      ],
      "source": [
        "# view the structure of the model\n",
        "model.summary()\n"
      ]
    },
    {
      "cell_type": "code",
      "execution_count": 12,
      "metadata": {
        "id": "5Iikrc2YsU1r"
      },
      "outputs": [],
      "source": [
        "from tensorflow.keras.layers import MaxPooling2D"
      ]
    },
    {
      "cell_type": "code",
      "execution_count": 13,
      "metadata": {
        "colab": {
          "base_uri": "https://localhost:8080/"
        },
        "id": "7FLsbgPMsU1r",
        "outputId": "9dc62eca-c091-4bb7-d50d-a8c16b5a6fd6"
      },
      "outputs": [
        {
          "output_type": "stream",
          "name": "stdout",
          "text": [
            "Model: \"sequential\"\n",
            "_________________________________________________________________\n",
            " Layer (type)                Output Shape              Param #   \n",
            "=================================================================\n",
            " conv2d (Conv2D)             (None, 224, 224, 16)      208       \n",
            "                                                                 \n",
            " max_pooling2d (MaxPooling2D  (None, 112, 112, 16)     0         \n",
            " )                                                               \n",
            "                                                                 \n",
            " conv2d_1 (Conv2D)           (None, 112, 112, 32)      2080      \n",
            "                                                                 \n",
            " max_pooling2d_1 (MaxPooling  (None, 56, 56, 32)       0         \n",
            " 2D)                                                             \n",
            "                                                                 \n",
            " conv2d_2 (Conv2D)           (None, 56, 56, 64)        8256      \n",
            "                                                                 \n",
            " max_pooling2d_2 (MaxPooling  (None, 28, 28, 64)       0         \n",
            " 2D)                                                             \n",
            "                                                                 \n",
            " flatten_1 (Flatten)         (None, 50176)             0         \n",
            "                                                                 \n",
            " dense_1 (Dense)             (None, 500)               25088500  \n",
            "                                                                 \n",
            " dense_2 (Dense)             (None, 2)                 1002      \n",
            "                                                                 \n",
            "=================================================================\n",
            "Total params: 25,100,046\n",
            "Trainable params: 25,100,046\n",
            "Non-trainable params: 0\n",
            "_________________________________________________________________\n"
          ]
        }
      ],
      "source": [
        "### Create Model from scratch using CNN\n",
        "model=Sequential()\n",
        "model.add(Conv2D(filters=16,kernel_size=2,padding=\"same\",activation=\"relu\",input_shape=(224,224,3)))\n",
        "model.add(MaxPooling2D(pool_size=2))\n",
        "model.add(Conv2D(filters=32,kernel_size=2,padding=\"same\",activation =\"relu\"))\n",
        "model.add(MaxPooling2D(pool_size=2))\n",
        "model.add(Conv2D(filters=64,kernel_size=2,padding=\"same\",activation=\"relu\"))\n",
        "model.add(MaxPooling2D(pool_size=2))\n",
        "model.add(Flatten())\n",
        "model.add(Dense(500,activation=\"relu\"))\n",
        "model.add(Dense(2,activation=\"softmax\"))\n",
        "model.summary()"
      ]
    },
    {
      "cell_type": "code",
      "execution_count": 15,
      "metadata": {
        "id": "haRarOyWsU1r"
      },
      "outputs": [],
      "source": [
        "# tell the model what cost and optimization method to use\n",
        "model.compile(\n",
        "  loss='categorical_crossentropy',  # two node at the last, if binary then use binary_crossentropy\n",
        "  optimizer='adam',\n",
        "  metrics=['accuracy'] # This is classification problem accuracy metrics is best to use.\n",
        ")\n"
      ]
    },
    {
      "cell_type": "code",
      "execution_count": 16,
      "metadata": {
        "id": "rkumUHgxsU1r"
      },
      "outputs": [],
      "source": [
        "# Use the Image Data Generator to import the images from the dataset\n",
        "\n",
        "from tensorflow.keras.preprocessing.image import ImageDataGenerator\n",
        "\n",
        "train_datagen = ImageDataGenerator(rescale = 1./255,\n",
        "                                   shear_range = 0.2,\n",
        "                                   zoom_range = 0.2,\n",
        "                                   horizontal_flip = True)\n",
        "\n",
        "test_datagen = ImageDataGenerator(rescale = 1./255)"
      ]
    },
    {
      "cell_type": "code",
      "execution_count": 17,
      "metadata": {
        "colab": {
          "base_uri": "https://localhost:8080/"
        },
        "id": "XWbCv-KFsU1s",
        "outputId": "8d6e39e1-01b6-4141-cc77-a468e4519c5f"
      },
      "outputs": [
        {
          "output_type": "stream",
          "name": "stdout",
          "text": [
            "Found 416 images belonging to 2 classes.\n"
          ]
        }
      ],
      "source": [
        "# Make sure you provide the same target size as initialied for the image size\n",
        "training_set = train_datagen.flow_from_directory('/content/drive/MyDrive/Modern_CompVision/Malaria-Detection/Dataset/Train',\n",
        "                                                 target_size = (224, 224),\n",
        "                                                 batch_size = 32,\n",
        "                                                 class_mode = 'categorical')"
      ]
    },
    {
      "cell_type": "code",
      "execution_count": 18,
      "metadata": {
        "colab": {
          "base_uri": "https://localhost:8080/"
        },
        "id": "0s9GJtZ1sU1s",
        "outputId": "9d246e9a-c32c-492c-86fc-26577a18d23c"
      },
      "outputs": [
        {
          "output_type": "execute_result",
          "data": {
            "text/plain": [
              "<keras.preprocessing.image.DirectoryIterator at 0x7f0bc8705590>"
            ]
          },
          "metadata": {},
          "execution_count": 18
        }
      ],
      "source": [
        "training_set"
      ]
    },
    {
      "cell_type": "code",
      "execution_count": 19,
      "metadata": {
        "colab": {
          "base_uri": "https://localhost:8080/"
        },
        "id": "REFk1UY2sU1s",
        "outputId": "5d5b9d46-b874-4d38-e30a-0f3f15a53d85"
      },
      "outputs": [
        {
          "output_type": "stream",
          "name": "stdout",
          "text": [
            "Found 134 images belonging to 2 classes.\n"
          ]
        }
      ],
      "source": [
        "test_set = test_datagen.flow_from_directory('/content/drive/MyDrive/Modern_CompVision/Malaria-Detection/Dataset/Test',\n",
        "                                            target_size = (224, 224),\n",
        "                                            batch_size = 32,\n",
        "                                            class_mode = 'categorical')"
      ]
    },
    {
      "cell_type": "code",
      "execution_count": 20,
      "metadata": {
        "scrolled": true,
        "colab": {
          "base_uri": "https://localhost:8080/"
        },
        "id": "Dsfwikv5sU1s",
        "outputId": "8b224812-ae63-436b-f013-acafb210ec8b"
      },
      "outputs": [
        {
          "output_type": "stream",
          "name": "stdout",
          "text": [
            "Epoch 1/50\n",
            "13/13 [==============================] - 126s 9s/step - loss: 2.5378 - accuracy: 0.4832 - val_loss: 1.1920 - val_accuracy: 0.3209\n",
            "Epoch 2/50\n",
            "13/13 [==============================] - 5s 364ms/step - loss: 0.7207 - accuracy: 0.5481 - val_loss: 0.7205 - val_accuracy: 0.3358\n",
            "Epoch 3/50\n",
            "13/13 [==============================] - 5s 365ms/step - loss: 0.5922 - accuracy: 0.6683 - val_loss: 0.7687 - val_accuracy: 0.3433\n",
            "Epoch 4/50\n",
            "13/13 [==============================] - 5s 364ms/step - loss: 0.5326 - accuracy: 0.7260 - val_loss: 1.0062 - val_accuracy: 0.3358\n",
            "Epoch 5/50\n",
            "13/13 [==============================] - 5s 365ms/step - loss: 0.4876 - accuracy: 0.7692 - val_loss: 0.9935 - val_accuracy: 0.3060\n",
            "Epoch 6/50\n",
            "13/13 [==============================] - 5s 363ms/step - loss: 0.4564 - accuracy: 0.7909 - val_loss: 0.9142 - val_accuracy: 0.3209\n",
            "Epoch 7/50\n",
            "13/13 [==============================] - 5s 363ms/step - loss: 0.4358 - accuracy: 0.7788 - val_loss: 1.1281 - val_accuracy: 0.3955\n",
            "Epoch 8/50\n",
            "13/13 [==============================] - 5s 363ms/step - loss: 0.4886 - accuracy: 0.7452 - val_loss: 0.7480 - val_accuracy: 0.4179\n",
            "Epoch 9/50\n",
            "13/13 [==============================] - 5s 363ms/step - loss: 0.4683 - accuracy: 0.7716 - val_loss: 0.8725 - val_accuracy: 0.3806\n",
            "Epoch 10/50\n",
            "13/13 [==============================] - 5s 365ms/step - loss: 0.4648 - accuracy: 0.7428 - val_loss: 0.7799 - val_accuracy: 0.4478\n",
            "Epoch 11/50\n",
            "13/13 [==============================] - 5s 364ms/step - loss: 0.3968 - accuracy: 0.8197 - val_loss: 0.7538 - val_accuracy: 0.4925\n",
            "Epoch 12/50\n",
            "13/13 [==============================] - 5s 361ms/step - loss: 0.3640 - accuracy: 0.8245 - val_loss: 0.7818 - val_accuracy: 0.5224\n",
            "Epoch 13/50\n",
            "13/13 [==============================] - 5s 363ms/step - loss: 0.3461 - accuracy: 0.8606 - val_loss: 0.9124 - val_accuracy: 0.4776\n",
            "Epoch 14/50\n",
            "13/13 [==============================] - 5s 364ms/step - loss: 0.3203 - accuracy: 0.8822 - val_loss: 0.7100 - val_accuracy: 0.5672\n",
            "Epoch 15/50\n",
            "13/13 [==============================] - 5s 363ms/step - loss: 0.2982 - accuracy: 0.8558 - val_loss: 0.5945 - val_accuracy: 0.6642\n",
            "Epoch 16/50\n",
            "13/13 [==============================] - 5s 365ms/step - loss: 0.2443 - accuracy: 0.9159 - val_loss: 1.2159 - val_accuracy: 0.4328\n",
            "Epoch 17/50\n",
            "13/13 [==============================] - 5s 361ms/step - loss: 0.3561 - accuracy: 0.8558 - val_loss: 0.6894 - val_accuracy: 0.5522\n",
            "Epoch 18/50\n",
            "13/13 [==============================] - 5s 360ms/step - loss: 0.2092 - accuracy: 0.9183 - val_loss: 0.6614 - val_accuracy: 0.6418\n",
            "Epoch 19/50\n",
            "13/13 [==============================] - 5s 360ms/step - loss: 0.1885 - accuracy: 0.9351 - val_loss: 0.4749 - val_accuracy: 0.7687\n",
            "Epoch 20/50\n",
            "13/13 [==============================] - 5s 363ms/step - loss: 0.2176 - accuracy: 0.9327 - val_loss: 0.4432 - val_accuracy: 0.7687\n",
            "Epoch 21/50\n",
            "13/13 [==============================] - 5s 359ms/step - loss: 0.1601 - accuracy: 0.9471 - val_loss: 0.5535 - val_accuracy: 0.6866\n",
            "Epoch 22/50\n",
            "13/13 [==============================] - 5s 363ms/step - loss: 0.2401 - accuracy: 0.9255 - val_loss: 0.5722 - val_accuracy: 0.6791\n",
            "Epoch 23/50\n",
            "13/13 [==============================] - 5s 364ms/step - loss: 0.2272 - accuracy: 0.9111 - val_loss: 0.6644 - val_accuracy: 0.6866\n",
            "Epoch 24/50\n",
            "13/13 [==============================] - 5s 362ms/step - loss: 0.1471 - accuracy: 0.9615 - val_loss: 0.4517 - val_accuracy: 0.7910\n",
            "Epoch 25/50\n",
            "13/13 [==============================] - 5s 361ms/step - loss: 0.1306 - accuracy: 0.9639 - val_loss: 0.4981 - val_accuracy: 0.7761\n",
            "Epoch 26/50\n",
            "13/13 [==============================] - 5s 366ms/step - loss: 0.1504 - accuracy: 0.9471 - val_loss: 0.3050 - val_accuracy: 0.8657\n",
            "Epoch 27/50\n",
            "13/13 [==============================] - 5s 371ms/step - loss: 0.1216 - accuracy: 0.9615 - val_loss: 0.3262 - val_accuracy: 0.8582\n",
            "Epoch 28/50\n",
            "13/13 [==============================] - 5s 365ms/step - loss: 0.1124 - accuracy: 0.9712 - val_loss: 0.2915 - val_accuracy: 0.8731\n",
            "Epoch 29/50\n",
            "13/13 [==============================] - 5s 359ms/step - loss: 0.1072 - accuracy: 0.9663 - val_loss: 0.3478 - val_accuracy: 0.8433\n",
            "Epoch 30/50\n",
            "13/13 [==============================] - 5s 360ms/step - loss: 0.1455 - accuracy: 0.9567 - val_loss: 0.3194 - val_accuracy: 0.8507\n",
            "Epoch 31/50\n",
            "13/13 [==============================] - 5s 367ms/step - loss: 0.1078 - accuracy: 0.9639 - val_loss: 0.5829 - val_accuracy: 0.7836\n",
            "Epoch 32/50\n",
            "13/13 [==============================] - 5s 372ms/step - loss: 0.1092 - accuracy: 0.9639 - val_loss: 0.3884 - val_accuracy: 0.8433\n",
            "Epoch 33/50\n",
            "13/13 [==============================] - 5s 363ms/step - loss: 0.1011 - accuracy: 0.9736 - val_loss: 0.3333 - val_accuracy: 0.8657\n",
            "Epoch 34/50\n",
            "13/13 [==============================] - 5s 364ms/step - loss: 0.0884 - accuracy: 0.9760 - val_loss: 0.3269 - val_accuracy: 0.8582\n",
            "Epoch 35/50\n",
            "13/13 [==============================] - 5s 367ms/step - loss: 0.0864 - accuracy: 0.9688 - val_loss: 0.7758 - val_accuracy: 0.6866\n",
            "Epoch 36/50\n",
            "13/13 [==============================] - 5s 364ms/step - loss: 0.1243 - accuracy: 0.9567 - val_loss: 0.3588 - val_accuracy: 0.8582\n",
            "Epoch 37/50\n",
            "13/13 [==============================] - 5s 365ms/step - loss: 0.0790 - accuracy: 0.9712 - val_loss: 0.2788 - val_accuracy: 0.8731\n",
            "Epoch 38/50\n",
            "13/13 [==============================] - 5s 360ms/step - loss: 0.1106 - accuracy: 0.9688 - val_loss: 0.2360 - val_accuracy: 0.8881\n",
            "Epoch 39/50\n",
            "13/13 [==============================] - 5s 359ms/step - loss: 0.0844 - accuracy: 0.9784 - val_loss: 0.2577 - val_accuracy: 0.8731\n",
            "Epoch 40/50\n",
            "13/13 [==============================] - 5s 365ms/step - loss: 0.0939 - accuracy: 0.9712 - val_loss: 0.3688 - val_accuracy: 0.8582\n",
            "Epoch 41/50\n",
            "13/13 [==============================] - 5s 361ms/step - loss: 0.0649 - accuracy: 0.9880 - val_loss: 0.3684 - val_accuracy: 0.8657\n",
            "Epoch 42/50\n",
            "13/13 [==============================] - 5s 363ms/step - loss: 0.0467 - accuracy: 0.9904 - val_loss: 0.3139 - val_accuracy: 0.8955\n",
            "Epoch 43/50\n",
            "13/13 [==============================] - 5s 365ms/step - loss: 0.1009 - accuracy: 0.9688 - val_loss: 0.3235 - val_accuracy: 0.8731\n",
            "Epoch 44/50\n",
            "13/13 [==============================] - 5s 362ms/step - loss: 0.0813 - accuracy: 0.9784 - val_loss: 0.2521 - val_accuracy: 0.8955\n",
            "Epoch 45/50\n",
            "13/13 [==============================] - 5s 363ms/step - loss: 0.0821 - accuracy: 0.9808 - val_loss: 0.4885 - val_accuracy: 0.8358\n",
            "Epoch 46/50\n",
            "13/13 [==============================] - 5s 361ms/step - loss: 0.0840 - accuracy: 0.9784 - val_loss: 0.6269 - val_accuracy: 0.8507\n",
            "Epoch 47/50\n",
            "13/13 [==============================] - 5s 363ms/step - loss: 0.0677 - accuracy: 0.9760 - val_loss: 0.4043 - val_accuracy: 0.8657\n",
            "Epoch 48/50\n",
            "13/13 [==============================] - 5s 361ms/step - loss: 0.0961 - accuracy: 0.9688 - val_loss: 0.2693 - val_accuracy: 0.8657\n",
            "Epoch 49/50\n",
            "13/13 [==============================] - 5s 366ms/step - loss: 0.0562 - accuracy: 0.9808 - val_loss: 0.3337 - val_accuracy: 0.8806\n",
            "Epoch 50/50\n",
            "13/13 [==============================] - 5s 365ms/step - loss: 0.0594 - accuracy: 0.9832 - val_loss: 0.2598 - val_accuracy: 0.8955\n"
          ]
        }
      ],
      "source": [
        "# fit the model\n",
        "# Run the cell. It will take some time to execute\n",
        "r = model.fit(\n",
        "  training_set,\n",
        "  validation_data=test_set,\n",
        "  epochs=50,  # number of fwd and backpropagations during the training, in this case with batch size = 32 we need 13 iterations per epoch.\n",
        "  steps_per_epoch=len(training_set),\n",
        "  validation_steps=len(test_set)\n",
        ")\n",
        "\n",
        "#model.fit.generator is deprecated"
      ]
    },
    {
      "cell_type": "code",
      "execution_count": 21,
      "metadata": {
        "colab": {
          "base_uri": "https://localhost:8080/",
          "height": 530
        },
        "id": "Y0XpWWRasU1s",
        "outputId": "8f2d2966-8e50-4a2e-94a4-c252cc2b7336"
      },
      "outputs": [
        {
          "output_type": "display_data",
          "data": {
            "text/plain": [
              "<Figure size 432x288 with 1 Axes>"
            ],
            "image/png": "[encoded data removed]"
          },
          "metadata": {
            "needs_background": "light"
          }
        },
        {
          "output_type": "display_data",
          "data": {
            "text/plain": [
              "<Figure size 432x288 with 1 Axes>"
            ],
            "image/png": "[encoded data removed]"
          },
          "metadata": {
            "needs_background": "light"
          }
        },
        {
          "output_type": "display_data",
          "data": {
            "text/plain": [
              "<Figure size 432x288 with 0 Axes>"
            ]
          },
          "metadata": {}
        }
      ],
      "source": [
        "# plot the loss\n",
        "plt.plot(r.history['loss'], label='train loss')\n",
        "plt.plot(r.history['val_loss'], label='val loss')\n",
        "plt.legend()\n",
        "plt.show()\n",
        "plt.savefig('LossVal_loss')\n",
        "\n",
        "# plot the accuracy\n",
        "plt.plot(r.history['accuracy'], label='train acc')\n",
        "plt.plot(r.history['val_accuracy'], label='val acc')\n",
        "plt.legend()\n",
        "plt.show()\n",
        "plt.savefig('AccVal_acc')"
      ]
    },
    {
      "cell_type": "code",
      "execution_count": 22,
      "metadata": {
        "id": "lu18TIqDsU1s"
      },
      "outputs": [],
      "source": [
        "# save it as a h5 file\n",
        "\n",
        "\n",
        "from tensorflow.keras.models import load_model\n",
        "\n",
        "model.save('model_vgg19.h5')"
      ]
    },
    {
      "cell_type": "code",
      "execution_count": 23,
      "metadata": {
        "id": "kjP66P2DsU1t"
      },
      "outputs": [],
      "source": [
        "\n",
        "y_pred = model.predict(test_set)\n"
      ]
    },
    {
      "cell_type": "code",
      "execution_count": 24,
      "metadata": {
        "colab": {
          "base_uri": "https://localhost:8080/"
        },
        "id": "4yStke2ZsU1t",
        "outputId": "9d4e3376-c75c-4928-8dc0-920ae37fbb41"
      },
      "outputs": [
        {
          "output_type": "execute_result",
          "data": {
            "text/plain": [
              "array([[4.76329997e-02, 9.52367067e-01],\n",
              "       [9.99767363e-01, 2.32634469e-04],\n",
              "       [9.99937773e-01, 6.21687068e-05],\n",
              "       [1.93681002e-01, 8.06318998e-01],\n",
              "       [5.51265925e-02, 9.44873452e-01],\n",
              "       [9.99958515e-01, 4.14499045e-05],\n",
              "       [3.17630582e-02, 9.68236923e-01],\n",
              "       [9.99998331e-01, 1.62153572e-06],\n",
              "       [3.98087800e-02, 9.60191250e-01],\n",
              "       [1.01690004e-02, 9.89831030e-01],\n",
              "       [6.78908825e-02, 9.32109058e-01],\n",
              "       [9.89765823e-01, 1.02341548e-02],\n",
              "       [1.00000000e+00, 1.89678584e-09],\n",
              "       [1.00000000e+00, 1.59890330e-12],\n",
              "       [9.97217059e-01, 2.78286939e-03],\n",
              "       [3.95830944e-02, 9.60416913e-01],\n",
              "       [3.00210655e-01, 6.99789345e-01],\n",
              "       [9.22649130e-02, 9.07735109e-01],\n",
              "       [1.00000000e+00, 9.11892841e-18],\n",
              "       [1.71525609e-02, 9.82847452e-01],\n",
              "       [1.00000000e+00, 5.15142200e-11],\n",
              "       [5.15618473e-02, 9.48438108e-01],\n",
              "       [9.97836888e-01, 2.16315035e-03],\n",
              "       [9.99950886e-01, 4.91644823e-05],\n",
              "       [7.24100709e-01, 2.75899261e-01],\n",
              "       [6.82113413e-03, 9.93178844e-01],\n",
              "       [1.00000000e+00, 3.80245480e-09],\n",
              "       [9.99999762e-01, 2.85569570e-07],\n",
              "       [9.86319304e-01, 1.36806928e-02],\n",
              "       [3.68076116e-02, 9.63192344e-01],\n",
              "       [3.90514582e-02, 9.60948527e-01],\n",
              "       [9.99640703e-01, 3.59339727e-04],\n",
              "       [9.99999762e-01, 2.19162899e-07],\n",
              "       [3.12335461e-01, 6.87664568e-01],\n",
              "       [6.67493185e-03, 9.93325055e-01],\n",
              "       [1.00000000e+00, 2.16811725e-11],\n",
              "       [9.97847795e-01, 2.15226086e-03],\n",
              "       [3.45840231e-02, 9.65416014e-01],\n",
              "       [4.70118187e-02, 9.52988207e-01],\n",
              "       [9.35764134e-01, 6.42358437e-02],\n",
              "       [4.87059094e-02, 9.51294065e-01],\n",
              "       [1.00000000e+00, 1.85153970e-09],\n",
              "       [1.00000000e+00, 7.41625483e-10],\n",
              "       [9.99794304e-01, 2.05723176e-04],\n",
              "       [9.99985695e-01, 1.42466070e-05],\n",
              "       [9.99999166e-01, 8.31274349e-07],\n",
              "       [6.77311718e-01, 3.22688252e-01],\n",
              "       [9.99999285e-01, 6.57389080e-07],\n",
              "       [9.10809729e-03, 9.90891874e-01],\n",
              "       [6.16369247e-01, 3.83630782e-01],\n",
              "       [8.60479027e-02, 9.13952112e-01],\n",
              "       [5.35658449e-02, 9.46434081e-01],\n",
              "       [1.00000000e+00, 1.43077337e-08],\n",
              "       [3.87603370e-03, 9.96123970e-01],\n",
              "       [7.58791789e-02, 9.24120843e-01],\n",
              "       [1.76226012e-02, 9.82377410e-01],\n",
              "       [9.99994636e-01, 5.40236806e-06],\n",
              "       [9.99906301e-01, 9.36953074e-05],\n",
              "       [9.95613575e-01, 4.38637007e-03],\n",
              "       [9.98884022e-01, 1.11597171e-03],\n",
              "       [9.98920441e-01, 1.07959961e-03],\n",
              "       [9.95017707e-01, 4.98229591e-03],\n",
              "       [9.99998689e-01, 1.30815158e-06],\n",
              "       [1.00000000e+00, 3.23690479e-08],\n",
              "       [5.89127362e-01, 4.10872638e-01],\n",
              "       [9.99997616e-01, 2.42184910e-06],\n",
              "       [5.57642519e-01, 4.42357481e-01],\n",
              "       [1.26500905e-01, 8.73499036e-01],\n",
              "       [1.00000000e+00, 1.94098680e-15],\n",
              "       [1.00000000e+00, 5.71205519e-18],\n",
              "       [3.58078331e-01, 6.41921699e-01],\n",
              "       [7.30354041e-02, 9.26964641e-01],\n",
              "       [1.10439651e-01, 8.89560401e-01],\n",
              "       [6.57766402e-01, 3.42233568e-01],\n",
              "       [9.90263939e-01, 9.73604806e-03],\n",
              "       [1.09276704e-01, 8.90723228e-01],\n",
              "       [9.99602497e-01, 3.97507596e-04],\n",
              "       [9.99998927e-01, 1.11570682e-06],\n",
              "       [9.81053054e-01, 1.89469717e-02],\n",
              "       [8.85910355e-03, 9.91140902e-01],\n",
              "       [3.23845260e-02, 9.67615485e-01],\n",
              "       [1.00000000e+00, 3.19471627e-09],\n",
              "       [2.10243553e-01, 7.89756417e-01],\n",
              "       [9.99801815e-01, 1.98249982e-04],\n",
              "       [9.98535395e-01, 1.46462675e-03],\n",
              "       [2.18988955e-02, 9.78101134e-01],\n",
              "       [9.99552906e-01, 4.47089056e-04],\n",
              "       [1.00780670e-02, 9.89921868e-01],\n",
              "       [9.99994040e-01, 5.94537869e-06],\n",
              "       [9.88466620e-01, 1.15334541e-02],\n",
              "       [7.28821307e-02, 9.27117884e-01],\n",
              "       [9.53698233e-02, 9.04630125e-01],\n",
              "       [2.21622493e-02, 9.77837741e-01],\n",
              "       [9.99117076e-01, 8.82879249e-04],\n",
              "       [3.64893042e-02, 9.63510633e-01],\n",
              "       [1.32539093e-01, 8.67460907e-01],\n",
              "       [9.99994516e-01, 5.45583589e-06],\n",
              "       [9.98353124e-01, 1.64686714e-03],\n",
              "       [9.99999642e-01, 4.01206478e-07],\n",
              "       [9.89943862e-01, 1.00560887e-02],\n",
              "       [9.96295512e-01, 3.70448176e-03],\n",
              "       [9.90365386e-01, 9.63461772e-03],\n",
              "       [9.99871135e-01, 1.28886881e-04],\n",
              "       [1.16348080e-01, 8.83651853e-01],\n",
              "       [9.99997973e-01, 2.02244314e-06],\n",
              "       [9.99930620e-01, 6.93820257e-05],\n",
              "       [1.51494555e-02, 9.84850526e-01],\n",
              "       [7.92823508e-02, 9.20717657e-01],\n",
              "       [1.19684584e-01, 8.80315363e-01],\n",
              "       [9.99997735e-01, 2.21287360e-06],\n",
              "       [6.11052327e-02, 9.38894808e-01],\n",
              "       [1.61385871e-02, 9.83861387e-01],\n",
              "       [9.99919891e-01, 8.00507405e-05],\n",
              "       [9.99892831e-01, 1.07130203e-04],\n",
              "       [9.99738634e-01, 2.61323585e-04],\n",
              "       [9.99814689e-01, 1.85291108e-04],\n",
              "       [9.97469664e-01, 2.53034313e-03],\n",
              "       [1.00000000e+00, 4.33241640e-15],\n",
              "       [8.66315812e-02, 9.13368464e-01],\n",
              "       [1.03220657e-01, 8.96779299e-01],\n",
              "       [1.99628901e-02, 9.80037093e-01],\n",
              "       [9.99835014e-01, 1.64973564e-04],\n",
              "       [9.35161173e-01, 6.48388341e-02],\n",
              "       [2.02132106e-01, 7.97867894e-01],\n",
              "       [9.99733746e-01, 2.66186602e-04],\n",
              "       [1.00000000e+00, 5.93475535e-09],\n",
              "       [9.93377864e-01, 6.62216498e-03],\n",
              "       [5.08129671e-02, 9.49186981e-01],\n",
              "       [9.99931693e-01, 6.83268954e-05],\n",
              "       [5.48762130e-03, 9.94512320e-01],\n",
              "       [1.12802610e-01, 8.87197375e-01],\n",
              "       [1.22222975e-02, 9.87777650e-01],\n",
              "       [9.99999881e-01, 1.08534294e-07],\n",
              "       [1.00000000e+00, 7.14659644e-16]], dtype=float32)"
            ]
          },
          "metadata": {},
          "execution_count": 24
        }
      ],
      "source": [
        "y_pred"
      ]
    },
    {
      "cell_type": "code",
      "execution_count": 25,
      "metadata": {
        "id": "_c6kTGoSsU1t"
      },
      "outputs": [],
      "source": [
        "import numpy as np\n",
        "y_pred = np.argmax(y_pred, axis=1) # axis =1 is reading the highest value per row"
      ]
    },
    {
      "cell_type": "code",
      "execution_count": 26,
      "metadata": {
        "colab": {
          "base_uri": "https://localhost:8080/"
        },
        "id": "-ujd_IFxsU1t",
        "outputId": "93004428-3d76-4e66-c8d4-e2f7462ad6c5"
      },
      "outputs": [
        {
          "output_type": "execute_result",
          "data": {
            "text/plain": [
              "array([1, 0, 0, 1, 1, 0, 1, 0, 1, 1, 1, 0, 0, 0, 0, 1, 1, 1, 0, 1, 0, 1,\n",
              "       0, 0, 0, 1, 0, 0, 0, 1, 1, 0, 0, 1, 1, 0, 0, 1, 1, 0, 1, 0, 0, 0,\n",
              "       0, 0, 0, 0, 1, 0, 1, 1, 0, 1, 1, 1, 0, 0, 0, 0, 0, 0, 0, 0, 0, 0,\n",
              "       0, 1, 0, 0, 1, 1, 1, 0, 0, 1, 0, 0, 0, 1, 1, 0, 1, 0, 0, 1, 0, 1,\n",
              "       0, 0, 1, 1, 1, 0, 1, 1, 0, 0, 0, 0, 0, 0, 0, 1, 0, 0, 1, 1, 1, 0,\n",
              "       1, 1, 0, 0, 0, 0, 0, 0, 1, 1, 1, 0, 0, 1, 0, 0, 0, 1, 0, 1, 1, 1,\n",
              "       0, 0])"
            ]
          },
          "metadata": {},
          "execution_count": 26
        }
      ],
      "source": [
        "y_pred\n",
        "\n",
        "# 0 means parasited image"
      ]
    },
    {
      "cell_type": "code",
      "execution_count": 27,
      "metadata": {
        "id": "TjtpBY4EsU1t"
      },
      "outputs": [],
      "source": [
        "from tensorflow.keras.models import load_model\n",
        "from tensorflow.keras.preprocessing import image"
      ]
    },
    {
      "cell_type": "code",
      "execution_count": 28,
      "metadata": {
        "id": "JKi1nNQasU1t"
      },
      "outputs": [],
      "source": [
        "model=load_model('model_vgg19.h5')"
      ]
    },
    {
      "cell_type": "code",
      "execution_count": 29,
      "metadata": {
        "id": "jb_EVKW0sU1t"
      },
      "outputs": [],
      "source": [
        "img=image.load_img('/content/drive/MyDrive/Modern_CompVision/Malaria-Detection/Dataset/Test/Uninfected/3.png',target_size=(224,224))\n",
        "\n"
      ]
    },
    {
      "cell_type": "code",
      "execution_count": 30,
      "metadata": {
        "colab": {
          "base_uri": "https://localhost:8080/"
        },
        "id": "wGAX0Sg9sU1t",
        "outputId": "593195c1-0d04-458b-9c3d-2b1f7e6d6190"
      },
      "outputs": [
        {
          "output_type": "execute_result",
          "data": {
            "text/plain": [
              "array([[[0., 0., 0.],\n",
              "        [0., 0., 0.],\n",
              "        [0., 0., 0.],\n",
              "        ...,\n",
              "        [0., 0., 0.],\n",
              "        [0., 0., 0.],\n",
              "        [0., 0., 0.]],\n",
              "\n",
              "       [[0., 0., 0.],\n",
              "        [0., 0., 0.],\n",
              "        [0., 0., 0.],\n",
              "        ...,\n",
              "        [0., 0., 0.],\n",
              "        [0., 0., 0.],\n",
              "        [0., 0., 0.]],\n",
              "\n",
              "       [[0., 0., 0.],\n",
              "        [0., 0., 0.],\n",
              "        [0., 0., 0.],\n",
              "        ...,\n",
              "        [0., 0., 0.],\n",
              "        [0., 0., 0.],\n",
              "        [0., 0., 0.]],\n",
              "\n",
              "       ...,\n",
              "\n",
              "       [[0., 0., 0.],\n",
              "        [0., 0., 0.],\n",
              "        [0., 0., 0.],\n",
              "        ...,\n",
              "        [0., 0., 0.],\n",
              "        [0., 0., 0.],\n",
              "        [0., 0., 0.]],\n",
              "\n",
              "       [[0., 0., 0.],\n",
              "        [0., 0., 0.],\n",
              "        [0., 0., 0.],\n",
              "        ...,\n",
              "        [0., 0., 0.],\n",
              "        [0., 0., 0.],\n",
              "        [0., 0., 0.]],\n",
              "\n",
              "       [[0., 0., 0.],\n",
              "        [0., 0., 0.],\n",
              "        [0., 0., 0.],\n",
              "        ...,\n",
              "        [0., 0., 0.],\n",
              "        [0., 0., 0.],\n",
              "        [0., 0., 0.]]], dtype=float32)"
            ]
          },
          "metadata": {},
          "execution_count": 30
        }
      ],
      "source": [
        "x=image.img_to_array(img)\n",
        "x"
      ]
    },
    {
      "cell_type": "code",
      "execution_count": 31,
      "metadata": {
        "colab": {
          "base_uri": "https://localhost:8080/"
        },
        "id": "UJ-HmJAgsU1t",
        "outputId": "0f29fa2f-7c25-4a84-d57b-2fce1a37fc45"
      },
      "outputs": [
        {
          "output_type": "execute_result",
          "data": {
            "text/plain": [
              "(224, 224, 3)"
            ]
          },
          "metadata": {},
          "execution_count": 31
        }
      ],
      "source": [
        "x.shape"
      ]
    },
    {
      "cell_type": "code",
      "execution_count": 32,
      "metadata": {
        "id": "Umv9cHvbsU1t"
      },
      "outputs": [],
      "source": [
        "x=x/255"
      ]
    },
    {
      "cell_type": "code",
      "execution_count": 33,
      "metadata": {
        "colab": {
          "base_uri": "https://localhost:8080/"
        },
        "id": "CTGpEsVDsU1u",
        "outputId": "fb03832e-d498-4ff4-94d0-51281358399c"
      },
      "outputs": [
        {
          "output_type": "execute_result",
          "data": {
            "text/plain": [
              "(1, 224, 224, 3)"
            ]
          },
          "metadata": {},
          "execution_count": 33
        }
      ],
      "source": [
        "x=np.expand_dims(x,axis=0)\n",
        "img_data=preprocess_input(x)\n",
        "img_data.shape"
      ]
    },
    {
      "cell_type": "code",
      "execution_count": 34,
      "metadata": {
        "colab": {
          "base_uri": "https://localhost:8080/"
        },
        "id": "Fcwxhn1HsU1u",
        "outputId": "812f2b5d-eb3f-41e0-faef-35b5efa326de"
      },
      "outputs": [
        {
          "output_type": "execute_result",
          "data": {
            "text/plain": [
              "array([[1., 0.]], dtype=float32)"
            ]
          },
          "metadata": {},
          "execution_count": 34
        }
      ],
      "source": [
        "model.predict(img_data)"
      ]
    },
    {
      "cell_type": "code",
      "execution_count": 35,
      "metadata": {
        "id": "BanIpu-usU1u"
      },
      "outputs": [],
      "source": [
        "a=np.argmax(model.predict(img_data), axis=1)"
      ]
    },
    {
      "cell_type": "code",
      "execution_count": 36,
      "metadata": {
        "colab": {
          "base_uri": "https://localhost:8080/"
        },
        "id": "ahB3rRE4sU1u",
        "outputId": "dcb5b43d-0c0b-469f-d195-95e0d7cb2873"
      },
      "outputs": [
        {
          "output_type": "stream",
          "name": "stdout",
          "text": [
            "Infected\n"
          ]
        }
      ],
      "source": [
        "if(a==1):\n",
        "    print(\"Uninfected\")\n",
        "else:\n",
        "    print(\"Infected\")"
      ]
    }
  ],
  "metadata": {
    "kernelspec": {
      "display_name": "Python 3",
      "language": "python",
      "name": "python3"
    },
    "language_info": {
      "codemirror_mode": {
        "name": "ipython",
        "version": 3
      },
      "file_extension": ".py",
      "mimetype": "text/x-python",
      "name": "python",
      "nbconvert_exporter": "python",
      "pygments_lexer": "ipython3",
      "version": "3.7.4"
    },
    "colab": {
      "name": "CNN And Transfer Learning Malaria Detection.ipynb",
      "provenance": [],
      "collapsed_sections": [],
      "machine_shape": "hm",
      "include_colab_link": true
    },
    "accelerator": "GPU",
    "gpuClass": "standard"
  },
  "nbformat": 4,
  "nbformat_minor": 0
}